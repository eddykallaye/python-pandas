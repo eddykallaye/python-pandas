{
 "cells": [
  {
   "cell_type": "markdown",
   "metadata": {},
   "source": [
    "# This is Jeopardy!"
   ]
  },
  {
   "cell_type": "markdown",
   "metadata": {},
   "source": [
    "#### Overview"
   ]
  },
  {
   "cell_type": "markdown",
   "metadata": {},
   "source": [
    "This project is slightly different than others you have encountered thus far. Instead of a step-by-step tutorial, this project contains a series of open-ended requirements which describe the project you'll be building. There are many possible ways to correctly fulfill all of these requirements, and you should expect to use the internet, Codecademy, and/or other resources when you encounter a problem that you cannot easily solve."
   ]
  },
  {
   "cell_type": "markdown",
   "metadata": {},
   "source": [
    "#### Project Goals"
   ]
  },
  {
   "cell_type": "markdown",
   "metadata": {},
   "source": [
    "You will work to write several functions that investigate a dataset of _Jeopardy!_ questions and answers. Filter the dataset for topics that you're interested in, compute the average difficulty of those questions, and train to become the next Jeopardy champion!"
   ]
  },
  {
   "cell_type": "markdown",
   "metadata": {},
   "source": [
    "## Prerequisites"
   ]
  },
  {
   "cell_type": "markdown",
   "metadata": {},
   "source": [
    "In order to complete this project, you should have completed the Pandas lessons in the <a href=\"https://www.codecademy.com/learn/paths/analyze-data-with-python\">Analyze Data with Python Skill Path</a>. You can also find those lessons in the <a href=\"https://www.codecademy.com/learn/data-processing-pandas\">Data Analysis with Pandas course</a> or the <a href=\"https://www.codecademy.com/learn/paths/data-science/\">Data Scientist Career Path</a>.\n",
    "\n",
    "Finally, the <a href=\"https://www.codecademy.com/learn/practical-data-cleaning\">Practical Data Cleaning</a> course may also be helpful."
   ]
  },
  {
   "cell_type": "markdown",
   "metadata": {},
   "source": [
    "## Project Requirements"
   ]
  },
  {
   "cell_type": "markdown",
   "metadata": {},
   "source": [
    "1. We've provided a csv file containing data about the game show _Jeopardy!_ in a file named `jeopardy.csv`. Load the data into a DataFrame and investigate its contents. Try to print out specific columns.\n",
    "\n",
    "   Note that in order to make this project as \"real-world\" as possible, we haven't modified the data at all - we're giving it to you exactly how we found it. As a result, this data isn't as \"clean\" as the datasets you normally find on Codecademy. More specifically, there's something odd about the column names. After you figure out the problem with the column names, you may want to rename them to make your life easier for the rest of the project.\n",
    "   \n",
    "   In order to display the full contents of a column, we've added this line of code for you:\n",
    "   \n",
    "   ```py\n",
    "   pd.set_option('display.max_colwidth', None)\n",
    "   ```"
   ]
  },
  {
   "cell_type": "code",
   "execution_count": 2,
   "metadata": {},
   "outputs": [],
   "source": [
    "import pandas as pd\n",
    "pd.set_option('display.max_colwidth', None)\n",
    "df = pd.read_csv('jeopardy.csv')\n",
    "df.rename(columns=lambda x: x.replace(' ','') if x[0]== ' ' else x.replace(' ','_'), inplace= True)"
   ]
  },
  {
   "cell_type": "markdown",
   "metadata": {},
   "source": [
    "2. Write a function that filters the dataset for questions that contains all of the words in a list of words. For example, when the list `[\"King\", \"England\"]` was passed to our function, the function returned a DataFrame of 49 rows. Every row had the strings `\"King\"` and `\"England\"` somewhere in its `\" Question\"`.\n",
    "\n",
    "   Test your function by printing out the column containing the question of each row of the dataset."
   ]
  },
  {
   "cell_type": "code",
   "execution_count": 3,
   "metadata": {},
   "outputs": [
    {
     "name": "stdout",
     "output_type": "stream",
     "text": [
      "14912                     This country's King Louis IV was nicknamed \"Louis From Overseas\" because he was raised in England\n",
      "21511                                          this man and his son ruled England following the execution of King Charles I\n",
      "23810                  William the Conqueror was crowned King of England in Westminster Abbey on Christmas Day in this year\n",
      "47814                                                            This steak sauce was created for King George IV of England\n",
      "49994                                Elizabeth I's half-brother, he reigned before her as King of England from 1547 to 1553\n",
      "58949                                 He became King of England in 1399 after forcing his cousin Richard II from the throne\n",
      "77195                   He became King of England on June 26, 1483; just over 2 years later he was killed at Bosworth Field\n",
      "86412                                  This country's King Olaf V was born in England & was the grandson of King Edward VII\n",
      "89710                     This 11th Century King of England also ruled Denmark & Norway during the latter part of his reign\n",
      "118809                                                     In French this King of England is called Guillaume le Conquerant\n",
      "123671                                                                                       King Henry VII of England dies\n",
      "127484                         Ethelred the Unready managed to lose most of England to King Sweyn Forkbeard of this country\n",
      "127758                                           This state was named for the King of England who reigned from 1727 to 1760\n",
      "137818                                                 The last King William to rule England had this number after his name\n",
      "150880                                                During Stanley Baldwin's term as P.M., this King of England abdicated\n",
      "170007                         In the 1697 Treaty of Rijswijk, the French recognized this Dutch-born man as King of England\n",
      "174055                                                     This conqueror was crowned King of England on Christmas Day 1066\n",
      "175259                                                                   His short reign as King of England fell in in 1936\n",
      "183462                     A capital in the West Indies is named for this family name of William of Orange, King of England\n",
      "186239    He was King of England from 1189 to 1199 but spent only 6 months there; the rest of the time, he was off fighting\n",
      "187651                              This Bahamian capital took its name from the family name of King William III of England\n",
      "194516                     The \"Monty Python\" member who played King Arthur, he ended his grail quest in Maidstone, England\n",
      "200369      8th C. King Offa built a 170-mile north-south dike that still partly marks the border of England & this country\n",
      "Name: Question, dtype: object\n"
     ]
    }
   ],
   "source": [
    "def filter_dataset(df, words_list):\n",
    "  filtered_dataframe = df[df['Question'].apply(lambda x: all(word in x.split() for word in words_list))]\n",
    "  return filtered_dataframe\n",
    "filtered_dataset = filter_dataset(df,['King', 'England'])\n",
    "print(filtered_dataset.Question)"
   ]
  },
  {
   "cell_type": "markdown",
   "metadata": {},
   "source": [
    "3. Test your original function with a few different sets of words to try to find some ways your function breaks. Edit your function so it is more robust.\n",
    "\n",
    "   For example, think about capitalization. We probably want to find questions that contain the word `\"King\"` or `\"king\"`.\n",
    "   \n",
    "   You may also want to check to make sure you don't find rows that contain substrings of your given words. For example, our function found a question that didn't contain the word `\"king\"`, however it did contain the word `\"viking\"` &mdash; it found the `\"king\"` inside `\"viking\"`. Note that this also comes with some drawbacks &mdash; you would no longer find questions that contained words like `\"England's\"`."
   ]
  },
  {
   "cell_type": "code",
   "execution_count": 4,
   "metadata": {},
   "outputs": [
    {
     "name": "stdout",
     "output_type": "stream",
     "text": [
      "6337               In retaliation for Viking raids, this \"Unready\" king of England attacks Norse areas of the Isle of Man\n",
      "9191                             This king of England beat the odds to trounce the French in the 1415 Battle of Agincourt\n",
      "13454                                                It's the number that followed the last king of England named William\n",
      "14912                   This country's King Louis IV was nicknamed \"Louis From Overseas\" because he was raised in England\n",
      "18076                     In 1199 this crusader king of England was mortally wounded while besieging the castle of Chalus\n",
      "                                                               ...                                                       \n",
      "200369    8th C. King Offa built a 170-mile north-south dike that still partly marks the border of England & this country\n",
      "201168                                           Popular Saint-Exupery character waiting around to become king of England\n",
      "208742                               Dutch-born king who ruled England jointly with Mary II & is a tasty New Zealand fish\n",
      "213870                         In 1781 William Herschel discovered Uranus & initially named it after this king of England\n",
      "216021                   His nickname was \"Bertie\", but he used this name & number when he became king of England in 1901\n",
      "Name: Question, Length: 74, dtype: object\n"
     ]
    }
   ],
   "source": [
    "def filter_dataset(df, words_list):\n",
    "  filtered_dataframe = df[df['Question'].apply(lambda x: all(word.lower() in x.lower().split() for word in words_list))]\n",
    "  return filtered_dataframe\n",
    "filtered_dataset = filter_dataset(df,['King', 'England'])\n",
    "print(filtered_dataset.Question)"
   ]
  },
  {
   "cell_type": "markdown",
   "metadata": {},
   "source": [
    "4. We may want to eventually compute aggregate statistics, like `.mean()` on the `\" Value\"` column. But right now, the values in that column are strings. Convert the`\" Value\"` column to floats. If you'd like to, you can create a new column with float values.\n",
    "\n",
    "   While most of the values in the `\" Value\"` column represent a dollar amount as a string, note that some do not &mdash; these values will need to be handled differently!\n",
    "\n",
    "   Now that you can filter the dataset of question, use your new column that contains the float values of each question to find the \"difficulty\" of certain topics. For example, what is the average value of questions that contain the word `\"King\"`?\n",
    "   \n",
    "   Make sure to use the dataset that contains the float values as the dataset you use in your filtering function."
   ]
  },
  {
   "cell_type": "code",
   "execution_count": 5,
   "metadata": {},
   "outputs": [
    {
     "name": "stdout",
     "output_type": "stream",
     "text": [
      "747.9901697944593\n"
     ]
    }
   ],
   "source": [
    "def calculate_average_value(df, word):\n",
    "    df['Value(float)'] = df['Value'].apply(lambda x: float(x.strip('$').replace(',', '')) if x != 'no value' else 0)\n",
    "    filtered_dataset = df[df['Question'].str.lower().str.contains(word.lower())]\n",
    "    average_value = filtered_dataset['Value(float)'].mean()\n",
    "    return average_value\n",
    "\n",
    "average_value = calculate_average_value(df,'england')\n",
    "print(average_value)"
   ]
  },
  {
   "cell_type": "markdown",
   "metadata": {},
   "source": [
    "5. Write a function that returns the count of unique answers to all of the questions in a dataset. For example, after filtering the entire dataset to only questions containing the word `\"King\"`, we could then find all of the unique answers to those questions. The answer \"Henry VIII\" appeared 55 times and was the most common answer."
   ]
  },
  {
   "cell_type": "code",
   "execution_count": 6,
   "metadata": {},
   "outputs": [
    {
     "name": "stdout",
     "output_type": "stream",
     "text": [
      "Answer\n",
      "China                             216\n",
      "Australia                         215\n",
      "Japan                             196\n",
      "Chicago                           194\n",
      "France                            193\n",
      "                                 ... \n",
      "a triathalon                        1\n",
      "The King of Comedy                  1\n",
      "The Admirable Chrichton             1\n",
      "a tribunal                          1\n",
      "Grigori Alexandrovich Potemkin      1\n",
      "Name: count, Length: 88267, dtype: int64\n"
     ]
    }
   ],
   "source": [
    "def count_unique_answers(df,word):\n",
    "  count = df['Answer'].value_counts()\n",
    "  return count\n",
    "unique_answers_count = count_unique_answers(df,'king')\n",
    "print(unique_answers_count)"
   ]
  },
  {
   "cell_type": "markdown",
   "metadata": {},
   "source": [
    "## Solution"
   ]
  },
  {
   "cell_type": "markdown",
   "metadata": {},
   "source": [
    "7. Compare your program to our <a href=\"https://content.codecademy.com/PRO/independent-practice-projects/jeopardy/jeopardy_solution.zip\">sample solution code</a> - remember, that your program might look different from ours (and probably will) and that's okay!"
   ]
  },
  {
   "cell_type": "markdown",
   "metadata": {},
   "source": [
    "8. Great work! Visit <a href=\"https://discuss.codecademy.com/t/this-is-jeopardy-challenge-project-python-pandas/462365\">our forums</a> to compare your project to our sample solution code. You can also learn how to host your own solution on GitHub so you can share it with other learners! Your solution might look different from ours, and that's okay! There are multiple ways to solve these projects, and you'll learn more by seeing others' code."
   ]
  }
 ],
 "metadata": {
  "kernelspec": {
   "display_name": "Python 3 (ipykernel)",
   "language": "python",
   "name": "python3"
  },
  "language_info": {
   "codemirror_mode": {
    "name": "ipython",
    "version": 3
   },
   "file_extension": ".py",
   "mimetype": "text/x-python",
   "name": "python",
   "nbconvert_exporter": "python",
   "pygments_lexer": "ipython3",
   "version": "3.11.5"
  }
 },
 "nbformat": 4,
 "nbformat_minor": 4
}
